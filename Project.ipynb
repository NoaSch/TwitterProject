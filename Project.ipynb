{
 "cells": [
  {
   "cell_type": "markdown",
   "metadata": {},
   "source": [
    "# Project - Twitter User Gender Classification "
   ]
  },
  {
   "cell_type": "markdown",
   "metadata": {},
   "source": [
    "#### Noa Schwartz- 203598842  , Danit Inzua- 318893120"
   ]
  },
  {
   "cell_type": "markdown",
   "metadata": {},
   "source": [
    "## Q1. Text pre-processing and exploration"
   ]
  },
  {
   "cell_type": "markdown",
   "metadata": {},
   "source": [
    "#### Import necessary libraries:"
   ]
  },
  {
   "cell_type": "code",
   "execution_count": null,
   "metadata": {
    "collapsed": false
   },
   "outputs": [
    {
     "name": "stderr",
     "output_type": "stream",
     "text": [
      "C:\\ProgramData\\Anaconda2\\lib\\site-packages\\ipykernel\\__main__.py:27: DeprecationWarning: the sets module is deprecated\n"
     ]
    }
   ],
   "source": [
    "import numpy as np # linear algebra\n",
    "import pandas as pd # data processing, CSV file I/O (e.g. pd.read_csv)\n",
    "import matplotlib.pyplot as plt\n",
    "from sklearn.feature_extraction.text import TfidfVectorizer\n",
    "from sklearn.feature_extraction.text import TfidfTransformer\n",
    "from sklearn.pipeline import Pipeline\n",
    "from sklearn.utils.extmath import density\n",
    "from sklearn.datasets import load_files\n",
    "from sklearn.feature_extraction.text import CountVectorizer\n",
    "from sklearn import metrics\n",
    "import re\n",
    "import pandas as pd\n",
    "import nltk\n",
    "from nltk.tokenize import word_tokenize\n",
    "from nltk.corpus import stopwords\n",
    "import string\n",
    "from nltk.stem.snowball import SnowballStemmer\n",
    "from sklearn.linear_model import SGDClassifier\n",
    "from sklearn.linear_model import Perceptron\n",
    "from sklearn.naive_bayes import MultinomialNB\n",
    "from sklearn.pipeline import Pipeline\n",
    "from sklearn.model_selection import GridSearchCV\n",
    "# have to use latin1 even though it results in a lot of dead characters\n",
    "import re\n",
    "from collections import Counter\n",
    "import itertools\n",
    "from sets import Set\n",
    "# function for encoding categories\n",
    "from sklearn.preprocessing import LabelEncoder\n",
    "# function to split the data for cross-validation\n",
    "from sklearn.model_selection import train_test_split\n",
    "from time import time"
   ]
  },
  {
   "cell_type": "code",
   "execution_count": 2,
   "metadata": {
    "collapsed": false
   },
   "outputs": [
    {
     "data": {
      "text/html": [
       "<table border=\"1\" class=\"dataframe table table-striped table-bordered table-hover\">\n",
       "  <thead>\n",
       "    <tr style=\"text-align: right;\">\n",
       "      <th></th>\n",
       "      <th>_unit_id</th>\n",
       "      <th>_golden</th>\n",
       "      <th>_unit_state</th>\n",
       "      <th>_trusted_judgments</th>\n",
       "      <th>_last_judgment_at</th>\n",
       "      <th>gender</th>\n",
       "      <th>gender:confidence</th>\n",
       "      <th>profile_yn</th>\n",
       "      <th>profile_yn:confidence</th>\n",
       "      <th>created</th>\n",
       "      <th>description</th>\n",
       "      <th>fav_number</th>\n",
       "      <th>gender_gold</th>\n",
       "      <th>link_color</th>\n",
       "      <th>name</th>\n",
       "      <th>profile_yn_gold</th>\n",
       "      <th>profileimage</th>\n",
       "      <th>retweet_count</th>\n",
       "      <th>sidebar_color</th>\n",
       "      <th>text</th>\n",
       "      <th>tweet_coord</th>\n",
       "      <th>tweet_count</th>\n",
       "      <th>tweet_created</th>\n",
       "      <th>tweet_id</th>\n",
       "      <th>tweet_location</th>\n",
       "      <th>user_timezone</th>\n",
       "    </tr>\n",
       "  </thead>\n",
       "  <tbody>\n",
       "    <tr>\n",
       "      <th>0</th>\n",
       "      <td>815724691</td>\n",
       "      <td>False</td>\n",
       "      <td>finalized</td>\n",
       "      <td>3</td>\n",
       "      <td>10/26/2015 23:56</td>\n",
       "      <td>brand</td>\n",
       "      <td>1.0000</td>\n",
       "      <td>yes</td>\n",
       "      <td>1.0</td>\n",
       "      <td>1/28/2012 13:02</td>\n",
       "      <td>I write the blog Treats &amp; Trinkets. I'm a nerd...</td>\n",
       "      <td>210</td>\n",
       "      <td>NaN</td>\n",
       "      <td>C744B8</td>\n",
       "      <td>TreatsTrinkets</td>\n",
       "      <td>NaN</td>\n",
       "      <td>https://pbs.twimg.com/profile_images/178806037...</td>\n",
       "      <td>0</td>\n",
       "      <td>FFFFFF</td>\n",
       "      <td>Zucchini Tacos with Mushrooms; lunch in the ri...</td>\n",
       "      <td>NaN</td>\n",
       "      <td>15928</td>\n",
       "      <td>10/26/2015 12:40</td>\n",
       "      <td>6.590000e+17</td>\n",
       "      <td>NaN</td>\n",
       "      <td>Eastern Time (US &amp; Canada)</td>\n",
       "    </tr>\n",
       "    <tr>\n",
       "      <th>1</th>\n",
       "      <td>815722062</td>\n",
       "      <td>False</td>\n",
       "      <td>finalized</td>\n",
       "      <td>3</td>\n",
       "      <td>10/26/2015 22:21</td>\n",
       "      <td>brand</td>\n",
       "      <td>1.0000</td>\n",
       "      <td>yes</td>\n",
       "      <td>1.0</td>\n",
       "      <td>4/7/2010 21:19</td>\n",
       "      <td>A real person. Most followed Astrology on Twit...</td>\n",
       "      <td>942</td>\n",
       "      <td>NaN</td>\n",
       "      <td>0084B4</td>\n",
       "      <td>XSTROLOGY</td>\n",
       "      <td>NaN</td>\n",
       "      <td>https://pbs.twimg.com/profile_images/378800000...</td>\n",
       "      <td>0</td>\n",
       "      <td>FFFFFF</td>\n",
       "      <td>Zodiac Signs in The Bedroom https://t.co/U7M9V...</td>\n",
       "      <td>NaN</td>\n",
       "      <td>169830</td>\n",
       "      <td>10/26/2015 12:40</td>\n",
       "      <td>6.590000e+17</td>\n",
       "      <td>The Stars</td>\n",
       "      <td>Pacific Time (US &amp; Canada)</td>\n",
       "    </tr>\n",
       "    <tr>\n",
       "      <th>2</th>\n",
       "      <td>815730655</td>\n",
       "      <td>False</td>\n",
       "      <td>finalized</td>\n",
       "      <td>3</td>\n",
       "      <td>10/27/2015 0:41</td>\n",
       "      <td>male</td>\n",
       "      <td>0.6565</td>\n",
       "      <td>yes</td>\n",
       "      <td>1.0</td>\n",
       "      <td>5/13/2014 22:57</td>\n",
       "      <td>Don't follow me. I tweet garbage.</td>\n",
       "      <td>147</td>\n",
       "      <td>NaN</td>\n",
       "      <td>A100B3</td>\n",
       "      <td>SethuIsShe</td>\n",
       "      <td>NaN</td>\n",
       "      <td>https://pbs.twimg.com/profile_images/656092017...</td>\n",
       "      <td>0</td>\n",
       "      <td>C0DEED</td>\n",
       "      <td>Zindzi Koki and Bongi must stop this nonsense....</td>\n",
       "      <td>NaN</td>\n",
       "      <td>23498</td>\n",
       "      <td>10/26/2015 13:20</td>\n",
       "      <td>6.590000e+17</td>\n",
       "      <td>Pretoria</td>\n",
       "      <td>NaN</td>\n",
       "    </tr>\n",
       "    <tr>\n",
       "      <th>3</th>\n",
       "      <td>815724867</td>\n",
       "      <td>False</td>\n",
       "      <td>finalized</td>\n",
       "      <td>3</td>\n",
       "      <td>10/26/2015 23:37</td>\n",
       "      <td>brand</td>\n",
       "      <td>1.0000</td>\n",
       "      <td>yes</td>\n",
       "      <td>1.0</td>\n",
       "      <td>10/15/2009 12:15</td>\n",
       "      <td>The New Republic is a mission-driven media org...</td>\n",
       "      <td>1016</td>\n",
       "      <td>NaN</td>\n",
       "      <td>FA743E</td>\n",
       "      <td>NewRepublic</td>\n",
       "      <td>NaN</td>\n",
       "      <td>https://pbs.twimg.com/profile_images/631195731...</td>\n",
       "      <td>0</td>\n",
       "      <td>FFFFFF</td>\n",
       "      <td>Zappos got rid of all its bosses (sort of). Is...</td>\n",
       "      <td>NaN</td>\n",
       "      <td>53431</td>\n",
       "      <td>10/26/2015 12:40</td>\n",
       "      <td>6.590000e+17</td>\n",
       "      <td>Washington, DC</td>\n",
       "      <td>Eastern Time (US &amp; Canada)</td>\n",
       "    </tr>\n",
       "    <tr>\n",
       "      <th>4</th>\n",
       "      <td>815723296</td>\n",
       "      <td>False</td>\n",
       "      <td>finalized</td>\n",
       "      <td>3</td>\n",
       "      <td>10/26/2015 22:33</td>\n",
       "      <td>brand</td>\n",
       "      <td>0.6556</td>\n",
       "      <td>yes</td>\n",
       "      <td>1.0</td>\n",
       "      <td>3/2/2012 23:52</td>\n",
       "      <td>Farooq Wani,voracious reader of books,editor d...</td>\n",
       "      <td>2</td>\n",
       "      <td>NaN</td>\n",
       "      <td>0084B4</td>\n",
       "      <td>brighterkashmir</td>\n",
       "      <td>NaN</td>\n",
       "      <td>https://pbs.twimg.com/profile_images/491788576...</td>\n",
       "      <td>0</td>\n",
       "      <td>C0DEED</td>\n",
       "      <td>zahir-ud-Din An active member of the Muslim Co...</td>\n",
       "      <td>NaN</td>\n",
       "      <td>8509</td>\n",
       "      <td>10/26/2015 12:40</td>\n",
       "      <td>6.590000e+17</td>\n",
       "      <td>Kashmir</td>\n",
       "      <td>NaN</td>\n",
       "    </tr>\n",
       "  </tbody>\n",
       "</table>"
      ],
      "text/plain": [
       "<IPython.core.display.HTML object>"
      ]
     },
     "execution_count": 2,
     "metadata": {},
     "output_type": "execute_result"
    }
   ],
   "source": [
    "from IPython.display import HTML #let us treat data frame as it was table tag in html\n",
    "# have to use latin1 even though it results in a lot of dead characters\n",
    "twitterDataSet = pd.read_csv(\"c:\\gender-classifier-DFE-791531.csv\", encoding='latin1')\n",
    "HTML(twitterDataSet.head().to_html(classes='table table-striped table-bordered table-hover')) #we can use css table's classs on the dataframe\""
   ]
  },
  {
   "cell_type": "code",
   "execution_count": 3,
   "metadata": {
    "collapsed": false
   },
   "outputs": [],
   "source": [
    "#clean a tweet\n",
    "def cleanData(text):\n",
    "    #print(text)\n",
    "    #print(\"******************************\")\n",
    "    text = text.lower()\n",
    "\n",
    "    # remove punctuation, spaces digits and \"https\"\n",
    "    text = re.sub('\\s\\W',' ',text)\n",
    "    text = re.sub('\\W,\\s',' ',text)\n",
    "    text = re.sub(r'[^\\w]', ' ', text)\n",
    "    text = re.sub(\"\\d+\", \"\", text)\n",
    "    text = re.sub('\\s+',' ',text)\n",
    "    text = re.sub('[!@#$_]', '', text)\n",
    "    text = text.replace(\"https\",\"\")\n",
    "    text = text.replace(\",\",\"\")\n",
    "    text = text.replace(\"[\\w*\",\" \")\n",
    "\n",
    "    stop_words = stopwords.words('english') + list(string.punctuation)\n",
    "    stemmer = SnowballStemmer(\"english\")\n",
    "\n",
    "    twitAfterTokenize = word_tokenize(text) #text after tokenize (from full sentences to separated words)\n",
    "    filteredTwit = [word for word in twitAfterTokenize if word not in stop_words]\n",
    "    twitAfterStemming = [stemmer.stem(word) for word in filteredTwit] #stem each word in the text\n",
    "    twitAfterStemmingStr = ' '.join(twitAfterStemming)\n",
    "    return twitAfterStemmingStr\n",
    "\n",
    "#get all the common terms and their frequency in a category\n",
    "def getCommonTermsPerCat (gender):\n",
    "    allTermsInCat = list(itertools.chain(*twitsPerGender[gender]))#make list of all terms (transfer list of lists to one list)\n",
    "    termsCounter = Counter(allTermsInCat)\n",
    "    return (termsCounter.most_common(30))"
   ]
  },
  {
   "cell_type": "code",
   "execution_count": 4,
   "metadata": {
    "collapsed": false
   },
   "outputs": [
    {
     "name": "stdout",
     "output_type": "stream",
     "text": [
      "Class Distribution:\n",
      "***************************************************\n",
      "female     6699\n",
      "male       6193\n",
      "brand      5942\n",
      "unknown    1116\n",
      "Name: gender, dtype: int64\n",
      "\n"
     ]
    }
   ],
   "source": [
    "#update the corpus with the clean twits\n",
    "twitterDataSet['text_norm'] = [cleanData(s) for s in twitterDataSet['text']]\n",
    "#twitterDataSet['description_norm'] = [cleanData(s) for s in twitterDataSet['description']]\n",
    "\n",
    "\n",
    "print(\"Class Distribution:\")\n",
    "print(\"***************************************************\")\n",
    "print(twitterDataSet.gender.value_counts())\n",
    "print(\"\")\n",
    "\n",
    "#get the tweet foreach gender\n",
    "twitsPerGender ={};\n",
    "twitsPerGender['male'] = [];\n",
    "twitsPerGender['female'] = [];\n",
    "twitsPerGender['unknown'] = [];\n",
    "twitsPerGender['brand'] = [];\n",
    "for index, row in twitterDataSet.iterrows(): # iterate each row\n",
    "    #twitsPerGender[row['gender']].append(row['text_norm']) #if we want that twit will save as string not list\n",
    "    twitsPerGender[row['gender']].append(row['text_norm'].split())\n",
    "#count the twits in each category\n",
    "#print(\"Class Distribution:\")\n",
    "#print(\"***************************************************\")\n",
    "#for key, value in twitsPerGender.iteritems():\n",
    "    #print('{}: {} twits'.format(key,len(value)))\n",
    "commonWords = [];\n",
    "##get the terms distribution\n",
    "table_of_most_frequent = {};# array of tuples - term and requenchy\n",
    "most_freq_byCat = {};\n",
    "temp = {};\n",
    "commTermsInAll = []\n",
    "commSet = Set(commTermsInAll);\n",
    "for gen in twitsPerGender:\n",
    "    #print (gen)\n",
    "    lst = getCommonTermsPerCat(gen);\n",
    "    table_of_most_frequent[gen] = lst;\n",
    "    most_freq_byCat[gen] = [];\n",
    "    temp[gen] = [];\n",
    "\n",
    "for gen in twitsPerGender:\n",
    "    for commTerm, word_count in table_of_most_frequent[gen]:\n",
    "        most_freq_byCat[gen].append(commTerm)\n",
    "\n",
    "for gen in twitsPerGender:\n",
    "    ##remove terms that apear in all categories as common\n",
    "    for commTerm in most_freq_byCat[gen]:\n",
    "        if(commTerm not in commSet):\n",
    "            counter = 1\n",
    "            for otherGen in twitsPerGender:\n",
    "                if(otherGen != gen and commTerm in most_freq_byCat[otherGen]):\n",
    "                    counter = counter +1\n",
    "            if(counter == len(twitsPerGender)):\n",
    "                commSet.add(commTerm)\n",
    "                #print(commTerm)\n",
    "\n",
    "#remove the terms that common in all categories\n",
    "for gen in twitsPerGender:\n",
    "    for i in table_of_most_frequent[gen]:\n",
    "        if i[0] not in commSet:\n",
    "            temp[gen].append(i)\n",
    "    table_of_most_frequent[gen] = temp[gen];"
   ]
  },
  {
   "cell_type": "code",
   "execution_count": 5,
   "metadata": {
    "collapsed": false
   },
   "outputs": [
    {
     "name": "stdout",
     "output_type": "stream",
     "text": [
      "\n",
      "Terms Frequency:\n",
      "***************************************************\n",
      "              brand        female          male                  unknown\n",
      "0   (weather, 2279)   (want, 256)   (know, 202)           (weather, 402)\n",
      "1     (updat, 1174)   (know, 235)   (good, 189)             (updat, 205)\n",
      "2   (channel, 1173)    (got, 211)    (got, 189)           (channel, 203)\n",
      "3        (amp, 191)    (amp, 203)  (think, 185)  (pushawardslizquen, 31)\n",
      "4         (us, 168)   (best, 194)   (want, 179)         (forevermor, 31)\n",
      "5       (year, 137)  (thing, 183)   (need, 171)               (year, 28)\n",
      "6       (come, 129)   (need, 182)   (back, 161)   (everydayiloveyou, 28)\n",
      "7       (best, 124)  (think, 177)   (come, 160)               (want, 26)\n",
      "8        (via, 115)   (back, 176)   (year, 157)               (fuck, 25)\n",
      "9       (week, 112)    (say, 175)   (best, 155)              (think, 25)\n",
      "10     (check, 109)   (work, 175)   (fuck, 155)               (know, 25)\n",
      "11      (game, 100)   (good, 170)  (would, 154)               (much, 24)\n",
      "12       (back, 98)   (come, 169)    (amp, 152)                (way, 23)\n",
      "13        (job, 96)   (feel, 165)   (game, 147)               (need, 22)\n"
     ]
    },
    {
     "data": {
      "image/png": "[encoded data removed]",
      "text/plain": [
       "<matplotlib.figure.Figure at 0x127dde48>"
      ]
     },
     "metadata": {},
     "output_type": "display_data"
    },
    {
     "data": {
      "image/png": "[encoded data removed]",
      "text/plain": [
       "<matplotlib.figure.Figure at 0x13daba90>"
      ]
     },
     "metadata": {},
     "output_type": "display_data"
    },
    {
     "data": {
      "image/png": "[encoded data removed]",
      "text/plain": [
       "<matplotlib.figure.Figure at 0x13f8c4a8>"
      ]
     },
     "metadata": {},
     "output_type": "display_data"
    },
    {
     "data": {
      "image/png": "[encoded data removed]",
      "text/plain": [
       "<matplotlib.figure.Figure at 0x142004e0>"
      ]
     },
     "metadata": {},
     "output_type": "display_data"
    }
   ],
   "source": [
    "#plot the results\n",
    "for gen in twitsPerGender:\n",
    "    df3 = pd.DataFrame(table_of_most_frequent[gen], columns = ['Word', 'Count'])\n",
    "    ax = df3.plot.bar(title =\"most frequent terms in category: \" + gen, x='Word',y='Count')\n",
    "    x_offset = -0.4\n",
    "    y_offset = 2\n",
    "    for p in ax.patches:\n",
    "        b = p.get_bbox()\n",
    "        val = b.y1 + b.y0\n",
    "        ax.annotate(val, ((b.x0 + b.x1)/2 + x_offset, b.y1 + y_offset))\n",
    "    #print(gen)\n",
    "    #print(\"**************************\")\n",
    "    #print(df3)\n",
    "df2 = pd.DataFrame(table_of_most_frequent)\n",
    "df2.transpose()\n",
    "print(\"\")\n",
    "print(\"Terms Frequency:\") #without terms that common apear in all category\n",
    "print(\"***************************************************\")\n",
    "print (df2)\n",
    "plt.show()"
   ]
  },
  {
   "cell_type": "code",
   "execution_count": 6,
   "metadata": {
    "collapsed": false
   },
   "outputs": [
    {
     "name": "stdout",
     "output_type": "stream",
     "text": [
      "\n",
      "The terms that are common in all categories\n",
      "***************************************************\n",
      "Set([u'last', u'like', u'love', u'get', u'peopl', u'make', u'thank', u'new', u'one', u'see', u'follow', u'time', u'go', u'co', u'day', u'look'])\n"
     ]
    }
   ],
   "source": [
    "print(\"\")\n",
    "print(\"The terms that are common in all categories\")\n",
    "print(\"***************************************************\")\n",
    "print (commSet)"
   ]
  },
  {
   "cell_type": "markdown",
   "metadata": {
    "collapsed": false
   },
   "source": [
    "## Q2. Train a machine learning model to predict the gender of the tweet author"
   ]
  },
  {
   "cell_type": "code",
   "execution_count": 7,
   "metadata": {
    "collapsed": true
   },
   "outputs": [],
   "source": [
    "#remove all rows in dataset that have Nan value in \"gender:confidence\" column\n",
    "gender_confidence = twitterDataSet['gender:confidence'][np.where(np.invert(np.isnan(twitterDataSet['gender:confidence'])))[0]]\n",
    "twitterDataSet_confident = twitterDataSet[twitterDataSet['gender:confidence']==1]\n",
    "\n",
    "textsAfterClean = twitterDataSet_confident['text_norm']\n",
    "genders = twitterDataSet_confident['gender']\n",
    "\n",
    "# split into train and test sets using cross validation\n",
    "x_train, x_test, y_train, y_test = train_test_split(textsAfterClean, genders, test_size=0.2)"
   ]
  },
  {
   "cell_type": "markdown",
   "metadata": {},
   "source": [
    "### function that train the given model and give us the accuracy score and the time the traininig took"
   ]
  },
  {
   "cell_type": "code",
   "execution_count": 8,
   "metadata": {
    "collapsed": true
   },
   "outputs": [],
   "source": [
    "#this function recieve: clf-the chosen classifier, x_train and x_test- BOW/TF-IDF matrix (from feature extraction)\n",
    "#then train the model clf and return the results\n",
    "def benchmark(clf, x_train, x_test):\n",
    "\n",
    "    print('_' * 80)\n",
    "    print(\"Training: \")\n",
    "    print(clf)\n",
    "    t0 = time()\n",
    "    clf.fit(x_train, y_train)\n",
    "    train_time = time() - t0\n",
    "    print(\"train time: %0.3fs\" % train_time)\n",
    "\n",
    "    t0 = time()\n",
    "    pred = clf.predict(x_test)\n",
    "    test_time = time() - t0\n",
    "    print(\"test time:  %0.3fs\" % test_time)\n",
    "\n",
    "    score = metrics.accuracy_score(y_test, pred)\n",
    "    print(\"accuracy:   %0.3f\" % score)\n",
    "\n",
    "    clf_descr = str(clf).split('(')[0]\n",
    "    return clf_descr, score, train_time, test_time"
   ]
  },
  {
   "cell_type": "markdown",
   "metadata": {},
   "source": [
    "### function that make plot of comparison between machine learning methods"
   ]
  },
  {
   "cell_type": "code",
   "execution_count": 9,
   "metadata": {
    "collapsed": true
   },
   "outputs": [],
   "source": [
    "#function that receive the results of the training models and displays the comparison between them\n",
    "def makePlot (results):\n",
    "    indices = np.arange(len(results))\n",
    "\n",
    "    results = [[x[i] for x in results] for i in range(4)]\n",
    "\n",
    "    clf_names, score, training_time, test_time = results\n",
    "    training_time = np.array(training_time) / np.max(training_time)\n",
    "    test_time = np.array(test_time) / np.max(test_time)\n",
    "\n",
    "    plt.figure(figsize=(12, 8))\n",
    "    plt.title(\"Score\")\n",
    "    plt.barh(indices, score, .2, label=\"score\", color='navy')\n",
    "    plt.barh(indices + .3, training_time, .2, label=\"training time\",\n",
    "             color='c')\n",
    "    plt.barh(indices + .6, test_time, .2, label=\"test time\", color='darkorange')\n",
    "    plt.yticks(())\n",
    "    plt.legend(loc='best')\n",
    "    plt.subplots_adjust(left=.25)\n",
    "    plt.subplots_adjust(top=.95)\n",
    "    plt.subplots_adjust(bottom=.05)\n",
    "\n",
    "    for i, c in zip(indices, clf_names):\n",
    "        plt.text(-.3, i, c)\n",
    "    plt.show()"
   ]
  },
  {
   "cell_type": "markdown",
   "metadata": {},
   "source": [
    "### feature extraction"
   ]
  },
  {
   "cell_type": "code",
   "execution_count": 10,
   "metadata": {
    "collapsed": true
   },
   "outputs": [],
   "source": [
    "vectorizer = CountVectorizer()\n",
    "BOW_train = vectorizer.fit_transform(x_train)\n",
    "BOW_test = vectorizer.transform(x_test)\n",
    "\n",
    "Tfidf_vectorizer = TfidfVectorizer(sublinear_tf=True, max_df=0.5, stop_words='english')\n",
    "Tfidf_train = Tfidf_vectorizer.fit_transform(x_train)\n",
    "Tfidf_test = Tfidf_vectorizer.transform(x_test)"
   ]
  },
  {
   "cell_type": "markdown",
   "metadata": {},
   "source": [
    "### Results of the classify using Bag of words feature extraction:"
   ]
  },
  {
   "cell_type": "code",
   "execution_count": 11,
   "metadata": {
    "collapsed": false
   },
   "outputs": [
    {
     "name": "stdout",
     "output_type": "stream",
     "text": [
      "================================================================================\n",
      "SVM\n",
      "________________________________________________________________________________\n",
      "Training: \n",
      "SGDClassifier(alpha=0.0001, average=False, class_weight=None, epsilon=0.1,\n",
      "       eta0=0.0, fit_intercept=True, l1_ratio=0.15,\n",
      "       learning_rate='optimal', loss='hinge', max_iter=None, n_iter=None,\n",
      "       n_jobs=1, penalty='l2', power_t=0.5, random_state=None,\n",
      "       shuffle=True, tol=None, verbose=0, warm_start=False)\n",
      "train time: 0.053s\n",
      "test time:  0.001s\n",
      "accuracy:   0.548\n",
      "================================================================================\n",
      "Naive Bayes\n",
      "________________________________________________________________________________\n",
      "Training: \n",
      "MultinomialNB(alpha=1.0, class_prior=None, fit_prior=True)\n",
      "train time: 0.065s\n",
      "test time:  0.001s\n",
      "accuracy:   0.571\n"
     ]
    },
    {
     "name": "stderr",
     "output_type": "stream",
     "text": [
      "C:\\ProgramData\\Anaconda2\\lib\\site-packages\\sklearn\\linear_model\\stochastic_gradient.py:128: FutureWarning: max_iter and tol parameters have been added in <class 'sklearn.linear_model.stochastic_gradient.SGDClassifier'> in 0.19. If both are left unset, they default to max_iter=5 and tol=None. If tol is not None, max_iter defaults to max_iter=1000. From 0.21, default max_iter will be 1000, and default tol will be 1e-3.\n",
      "  \"and default tol will be 1e-3.\" % type(self), FutureWarning)\n"
     ]
    },
    {
     "data": {
      "image/png": "[encoded data removed]",
      "text/plain": [
       "<matplotlib.figure.Figure at 0x14076898>"
      ]
     },
     "metadata": {},
     "output_type": "display_data"
    }
   ],
   "source": [
    "results_BOW = []\n",
    "for clf, name in (\n",
    "        (SGDClassifier(),\"SVM\"),\n",
    "        (MultinomialNB(),\"Naive Bayes\")):\n",
    "    print('=' * 80)\n",
    "    print(name)\n",
    "    results_BOW.append(benchmark(clf, BOW_train,BOW_test))\n",
    "makePlot(results_BOW)"
   ]
  },
  {
   "cell_type": "markdown",
   "metadata": {},
   "source": [
    "### Results of the classify using TF-IDF feature extraction:"
   ]
  },
  {
   "cell_type": "code",
   "execution_count": 12,
   "metadata": {
    "collapsed": false
   },
   "outputs": [
    {
     "name": "stdout",
     "output_type": "stream",
     "text": [
      "================================================================================\n",
      "SVM\n",
      "________________________________________________________________________________\n",
      "Training: \n",
      "SGDClassifier(alpha=0.0001, average=False, class_weight=None, epsilon=0.1,\n",
      "       eta0=0.0, fit_intercept=True, l1_ratio=0.15,\n",
      "       learning_rate='optimal', loss='hinge', max_iter=None, n_iter=None,\n",
      "       n_jobs=1, penalty='l2', power_t=0.5, random_state=None,\n",
      "       shuffle=True, tol=None, verbose=0, warm_start=False)\n",
      "train time: 0.050s\n",
      "test time:  0.000s\n",
      "accuracy:   0.553\n",
      "================================================================================\n",
      "Naive Bayes\n",
      "________________________________________________________________________________\n",
      "Training: \n",
      "MultinomialNB(alpha=1.0, class_prior=None, fit_prior=True)\n",
      "train time: 0.058s\n",
      "test time:  0.000s\n",
      "accuracy:   0.535\n"
     ]
    },
    {
     "name": "stderr",
     "output_type": "stream",
     "text": [
      "C:\\ProgramData\\Anaconda2\\lib\\site-packages\\ipykernel\\__main__.py:9: RuntimeWarning: invalid value encountered in divide\n"
     ]
    },
    {
     "data": {
      "image/png": "[encoded data removed]",
      "text/plain": [
       "<matplotlib.figure.Figure at 0x14076cf8>"
      ]
     },
     "metadata": {},
     "output_type": "display_data"
    }
   ],
   "source": [
    "results_Tfidf = []\n",
    "for clf, name in (\n",
    "        (SGDClassifier(),\"SVM\"),\n",
    "        (MultinomialNB(),\"Naive Bayes\")):\n",
    "    print('=' * 80)\n",
    "    print(name)\n",
    "    results_Tfidf.append(benchmark(clf, Tfidf_train,Tfidf_test))\n",
    "makePlot(results_Tfidf)"
   ]
  },
  {
   "cell_type": "markdown",
   "metadata": {},
   "source": [
    "### Tune each model parameters to optimize the results using pipeline"
   ]
  },
  {
   "cell_type": "markdown",
   "metadata": {},
   "source": [
    "#### find the best parameters for both the feature extraction-BOW and the classifier-Naive Bayes:"
   ]
  },
  {
   "cell_type": "code",
   "execution_count": 13,
   "metadata": {
    "collapsed": false
   },
   "outputs": [
    {
     "name": "stdout",
     "output_type": "stream",
     "text": [
      "('Best score: ', 0.54506283662477562)\n",
      "('Best params: ', {'vect__max_df': 0.5, 'clf__fit_prior': True, 'clf__alpha': 1.0})\n"
     ]
    }
   ],
   "source": [
    "svmResults  = []\n",
    "NBResults = []\n",
    "\n",
    "nb_clf1 = Pipeline([('vect', CountVectorizer()),('clf', MultinomialNB())])\n",
    "parameters_clf1 =  {\n",
    "    'vect__max_df': (0.3,0.5,1.0),\n",
    "    'clf__alpha': (0.01,1.0),\n",
    "    'clf__fit_prior':(False,True)}\n",
    "gs_clf1 = GridSearchCV(nb_clf1, parameters_clf1, n_jobs=1)\n",
    "gs_clf1 = gs_clf1.fit(x_train,y_train)\n",
    "print('Best score: ',gs_clf1.best_score_)\n",
    "NBResults.append(gs_clf1.best_score_)\n",
    "print('Best params: ',gs_clf1.best_params_)"
   ]
  },
  {
   "cell_type": "markdown",
   "metadata": {},
   "source": [
    "#### find the best parameters for both the feature extraction-Tf idf and the classifier-Naive Bayes:"
   ]
  },
  {
   "cell_type": "code",
   "execution_count": null,
   "metadata": {
    "collapsed": false
   },
   "outputs": [
    {
     "name": "stdout",
     "output_type": "stream",
     "text": [
      "('Best score: ', 0.53070017953321369)\n",
      "('Best params: ', {'vect__max_df': 0.5, 'clf__fit_prior': False, 'vect__sublinear_tf': True, 'clf__alpha': 1.0})\n"
     ]
    }
   ],
   "source": [
    "nb_clf2 = Pipeline([('vect', TfidfVectorizer()),('clf', MultinomialNB())])\n",
    "parameters_clf2 =  {\n",
    "    'vect__max_df': (0.3,0.5,1.0),\n",
    "    'vect__sublinear_tf':(True, False),\n",
    "    'clf__alpha': (0.01,1.0),\n",
    "    'clf__fit_prior':(False,True)}\n",
    "gs_clf2 = GridSearchCV(nb_clf2, parameters_clf2, n_jobs=1)\n",
    "gs_clf2 = gs_clf2.fit(x_train,y_train)\n",
    "NBResults.append(gs_clf2.best_score_)\n",
    "print('Best score: ',gs_clf2.best_score_)\n",
    "print('Best params: ',gs_clf2.best_params_)"
   ]
  },
  {
   "cell_type": "markdown",
   "metadata": {},
   "source": [
    "#### find the best parameters for both the feature extraction-BOW and the classifier-SVM:"
   ]
  },
  {
   "cell_type": "code",
   "execution_count": null,
   "metadata": {
    "collapsed": false
   },
   "outputs": [],
   "source": [
    "svm_clf3 = Pipeline([\n",
    "    ('vect', CountVectorizer()),\n",
    "    ('clf', SGDClassifier()),\n",
    "])\n",
    "parameters_clf3 = {\n",
    "    'vect__max_df': (0.3,0.5,1.0),\n",
    "    'clf__alpha': (0.001,0.0001,0.00001,0.000001),\n",
    "    'clf__penalty': ('elasticnet','none', 'l2','l1'),\n",
    "    'clf__epsilon':(0.1,0.2)}\n",
    "gs_clf3 = GridSearchCV(svm_clf3, parameters_clf3, n_jobs=1)\n",
    "gs_clf3 = gs_clf3.fit(x_train,y_train)\n",
    "svmResults.append(gs_clf3.best_score_);\n",
    "print('Best score: ',gs_clf3.best_score_)\n",
    "print('Best params: ',gs_clf3.best_params_)"
   ]
  },
  {
   "cell_type": "markdown",
   "metadata": {},
   "source": [
    "#### find the best parameters for both the feature extraction-Tf idf and the classifier-SVM:"
   ]
  },
  {
   "cell_type": "code",
   "execution_count": null,
   "metadata": {
    "collapsed": false
   },
   "outputs": [],
   "source": [
    "svm_clf4 = Pipeline([\n",
    "    ('vect', TfidfVectorizer()),\n",
    "    ('clf', SGDClassifier()),\n",
    "])\n",
    "parameters_clf4 = {\n",
    "    'vect__max_df': (0.3,0.5,1.0),\n",
    "    'vect__sublinear_tf':(True, False),\n",
    "    'clf__alpha': (0.001,0.0001,0.00001,0.000001),\n",
    "    'clf__penalty': ('elasticnet','none', 'l2','l1'),\n",
    "    'clf__epsilon':(0.1,0.2)}\n",
    "gs_clf4 = GridSearchCV(svm_clf4, parameters_clf4, n_jobs=1)\n",
    "gs_clf4 = gs_clf4.fit(x_train,y_train)\n",
    "svmResults.append(gs_clf4.best_score_);\n",
    "print('Best score: ',gs_clf4.best_score_)\n",
    "print('Best params: ',gs_clf4.best_params_)"
   ]
  },
  {
   "cell_type": "markdown",
   "metadata": {},
   "source": [
    "### Use the best models selected in the previous steps for prediction on the test set and present the accuracy for each machine learning model"
   ]
  },
  {
   "cell_type": "markdown",
   "metadata": {},
   "source": [
    "#### Results of  the model Naive Bayes (with the receive pipeline's parameters):"
   ]
  },
  {
   "cell_type": "code",
   "execution_count": null,
   "metadata": {
    "collapsed": false
   },
   "outputs": [],
   "source": [
    "#Naive Bayes best with Bag of word\n",
    "#Best params:  {'vect__max_df': 0.5, 'clf__fit_prior': True, 'clf__alpha': 1.0}\n",
    "count_vectorizer1 = CountVectorizer(max_df=0.5, stop_words='english')\n",
    "count_train1 = count_vectorizer1.fit_transform(x_train)\n",
    "count_test1 = count_vectorizer1.transform(x_test)\n",
    "results1 = []\n",
    "clf_nb=MultinomialNB(fit_prior=True,alpha=1.0)\n",
    "print(\"Naive Bayes BOW\")\n",
    "results1.append(benchmark(clf_nb, count_train1,count_test1))"
   ]
  },
  {
   "cell_type": "markdown",
   "metadata": {},
   "source": [
    "#### Results of  the model SVM (with the receive pipeline's parameters):"
   ]
  },
  {
   "cell_type": "code",
   "execution_count": null,
   "metadata": {
    "collapsed": false
   },
   "outputs": [],
   "source": [
    "#SVM best with Bag of word\n",
    "#Best params: {'vect__max_df': 0.5, 'clf__penalty': 'l2', 'clf__epsilon': 0.1, 'clf__alpha': 0.001}\n",
    "count_vectorizer1 = CountVectorizer(max_df=0.5, stop_words='english')\n",
    "count_train2 = count_vectorizer1.fit_transform(x_train)\n",
    "count_test2 = count_vectorizer1.transform(x_test)\n",
    "results2 = []\n",
    "clf_svm=SGDClassifier(penalty='l2', alpha=0.001, epsilon=0.1)\n",
    "print(\"SVM BOW\")\n",
    "results2.append(benchmark(clf_svm, count_train2,count_test2))"
   ]
  },
  {
   "cell_type": "code",
   "execution_count": null,
   "metadata": {
    "collapsed": true
   },
   "outputs": [],
   "source": []
  }
 ],
 "metadata": {
  "kernelspec": {
   "display_name": "Python 2",
   "language": "python",
   "name": "python2"
  },
  "language_info": {
   "codemirror_mode": {
    "name": "ipython",
    "version": 2
   },
   "file_extension": ".py",
   "mimetype": "text/x-python",
   "name": "python",
   "nbconvert_exporter": "python",
   "pygments_lexer": "ipython2",
   "version": "2.7.13"
  }
 },
 "nbformat": 4,
 "nbformat_minor": 2
}
